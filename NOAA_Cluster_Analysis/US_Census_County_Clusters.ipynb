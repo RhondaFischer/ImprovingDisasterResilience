{
 "cells": [
  {
   "cell_type": "markdown",
   "id": "c2400d85",
   "metadata": {},
   "source": [
    "# Project: Improving Disaster Resilience\n",
    "\n",
    "## US Counties Census Data - Clustering Counties\n",
    "\n",
    "### \n",
    "### Disaster Resilience Project\n",
    "\n",
    "### Data Used: US Census Consolidate Data for U.S. Counties, Standardized FIPS Data\n",
    "\n",
    "Andrew Sommers\n",
    "\n",
    "### Purpose\n",
    "\n",
    "- Load the Combined US Census Data\n",
    "- Create county clusters based on similar census characteristics\n",
    "\n",
    "\n",
    "#### History 🗓️\n",
    "\n",
    "   Date | Person | Details\n",
    "   ---- | ------ | -------\n",
    " - 06/17/2023| Andrew Sommers| Create initial notebook\n",
    " - 08/25/2023| Andrew Sommers| Update documentation\n",
    "\n"
   ]
  },
  {
   "cell_type": "markdown",
   "id": "8d07b82a",
   "metadata": {},
   "source": [
    "### Importing Libraries\n",
    "\n",
    "We start by importing the libraries required for this notebook, adding in the ACS API key, and creating the function `json_to_dataframe` which is the function used in all our notebooks that make a call to the API. This function converts the API response into a dataframe and a readable format."
   ]
  },
  {
   "cell_type": "code",
   "execution_count": 1,
   "id": "8330ab3f",
   "metadata": {},
   "outputs": [],
   "source": [
    "#import requests # request http, api\n",
    "import pandas as pd # tabluar data\n",
    "#from functools import reduce\n",
    "import numpy as np\n",
    "import os\n",
    "\n",
    "import matplotlib.pyplot as plt\n",
    "plt.style.use('default')\n",
    "%matplotlib inline\n",
    "\n",
    "#import k means cluserting from sklearn\n",
    "from sklearn.cluster import KMeans\n",
    "\n",
    "import warnings\n",
    "warnings.filterwarnings('ignore')\n",
    "\n",
    "\n",
    "pd.options.display.max_columns = None # show all columns in display\n",
    "pd.options.display.max_rows = None # show all columns in display"
   ]
  },
  {
   "cell_type": "code",
   "execution_count": 2,
   "id": "cecc4125",
   "metadata": {},
   "outputs": [
    {
     "name": "stdout",
     "output_type": "stream",
     "text": [
      "FIPS Table data load complete  3143\n"
     ]
    }
   ],
   "source": [
    "# change the notebooks data source directory to the Disaster Resilience  Directory - change this for your local environment\n",
    "# set the sourcing directory where the 'data folder is located; this is the raw data input files.  \n",
    "# this notebook assumes data files are located in a 'Data' folder in the following path:\n",
    "os.chdir('C:\\\\Users\\\\andre\\\\OneDrive\\\\Documents\\\\IndianaUniversity\\\\D592\\\\Project_Disaster_Resilience\\\\Data\\\\Tables')\n",
    "FIPS_Table = pd.read_csv(f'FIPS_Prepared_Table.csv', dtype = str, skipinitialspace = True)\n",
    "FIPS_Table.set_index(\"FIPS\", inplace = True)\n",
    "print('FIPS Table data load complete ',len(FIPS_Table))"
   ]
  },
  {
   "cell_type": "code",
   "execution_count": 3,
   "id": "50ec7e06",
   "metadata": {},
   "outputs": [
    {
     "data": {
      "text/html": [
       "<div>\n",
       "<style scoped>\n",
       "    .dataframe tbody tr th:only-of-type {\n",
       "        vertical-align: middle;\n",
       "    }\n",
       "\n",
       "    .dataframe tbody tr th {\n",
       "        vertical-align: top;\n",
       "    }\n",
       "\n",
       "    .dataframe thead th {\n",
       "        text-align: right;\n",
       "    }\n",
       "</style>\n",
       "<table border=\"1\" class=\"dataframe\">\n",
       "  <thead>\n",
       "    <tr style=\"text-align: right;\">\n",
       "      <th></th>\n",
       "      <th>STATE_CODE</th>\n",
       "      <th>STATE_FIPS</th>\n",
       "      <th>COUNTY_FIPS</th>\n",
       "      <th>COUNTY_NS</th>\n",
       "      <th>COUNTY_FULL_NAME</th>\n",
       "      <th>FIPS_CLASS_CODE</th>\n",
       "      <th>FUNCTION_STATUS</th>\n",
       "      <th>COUNTY</th>\n",
       "      <th>STATE</th>\n",
       "    </tr>\n",
       "    <tr>\n",
       "      <th>FIPS</th>\n",
       "      <th></th>\n",
       "      <th></th>\n",
       "      <th></th>\n",
       "      <th></th>\n",
       "      <th></th>\n",
       "      <th></th>\n",
       "      <th></th>\n",
       "      <th></th>\n",
       "      <th></th>\n",
       "    </tr>\n",
       "  </thead>\n",
       "  <tbody>\n",
       "    <tr>\n",
       "      <th>0500000US01001</th>\n",
       "      <td>AL</td>\n",
       "      <td>1</td>\n",
       "      <td>1</td>\n",
       "      <td>161526</td>\n",
       "      <td>Autauga County</td>\n",
       "      <td>H1</td>\n",
       "      <td>A</td>\n",
       "      <td>AUTAUGA</td>\n",
       "      <td>ALABAMA</td>\n",
       "    </tr>\n",
       "    <tr>\n",
       "      <th>0500000US01003</th>\n",
       "      <td>AL</td>\n",
       "      <td>1</td>\n",
       "      <td>3</td>\n",
       "      <td>161527</td>\n",
       "      <td>Baldwin County</td>\n",
       "      <td>H1</td>\n",
       "      <td>A</td>\n",
       "      <td>BALDWIN</td>\n",
       "      <td>ALABAMA</td>\n",
       "    </tr>\n",
       "    <tr>\n",
       "      <th>0500000US01005</th>\n",
       "      <td>AL</td>\n",
       "      <td>1</td>\n",
       "      <td>5</td>\n",
       "      <td>161528</td>\n",
       "      <td>Barbour County</td>\n",
       "      <td>H1</td>\n",
       "      <td>A</td>\n",
       "      <td>BARBOUR</td>\n",
       "      <td>ALABAMA</td>\n",
       "    </tr>\n",
       "  </tbody>\n",
       "</table>\n",
       "</div>"
      ],
      "text/plain": [
       "               STATE_CODE STATE_FIPS COUNTY_FIPS COUNTY_NS COUNTY_FULL_NAME  \\\n",
       "FIPS                                                                          \n",
       "0500000US01001         AL          1           1    161526   Autauga County   \n",
       "0500000US01003         AL          1           3    161527   Baldwin County   \n",
       "0500000US01005         AL          1           5    161528   Barbour County   \n",
       "\n",
       "               FIPS_CLASS_CODE FUNCTION_STATUS   COUNTY    STATE  \n",
       "FIPS                                                              \n",
       "0500000US01001              H1               A  AUTAUGA  ALABAMA  \n",
       "0500000US01003              H1               A  BALDWIN  ALABAMA  \n",
       "0500000US01005              H1               A  BARBOUR  ALABAMA  "
      ]
     },
     "execution_count": 3,
     "metadata": {},
     "output_type": "execute_result"
    }
   ],
   "source": [
    "FIPS_Table.head(3)"
   ]
  },
  {
   "cell_type": "code",
   "execution_count": 4,
   "id": "a3056f79",
   "metadata": {},
   "outputs": [
    {
     "name": "stdout",
     "output_type": "stream",
     "text": [
      "US Census data load complete  3143\n"
     ]
    }
   ],
   "source": [
    "# change the notebooks data source directory to the Disaster Resilience  Directory - change this for your local environment\n",
    "# set the sourcing directory where the 'data folder is located; this is the raw data input files.  \n",
    "# this notebook assumes data files are located in a 'Data' folder in the following path:\n",
    "os.chdir('C:\\\\Users\\\\andre\\\\OneDrive\\\\Documents\\\\IndianaUniversity\\\\D592\\\\Project_Disaster_Resilience\\\\Data\\\\usCensus')\n",
    "US_Census_County_Data = pd.read_csv(f'US_Census_All_Counties.csv', dtype = str, skipinitialspace = True)\n",
    "US_Census_County_Data.drop(['STATE_CODE', 'STATE_FIPS', 'COUNTY_FIPS', 'COUNTY_NS', 'COUNTY_FULL_NAME', 'FIPS_CLASS_CODE', 'FUNCTION_STATUS', 'COUNTY', 'STATE'], axis=1, inplace = True)\n",
    "\n",
    "US_Census_County_Data.set_index(\"FIPS\", inplace = True)\n",
    "print('US Census data load complete ', len(US_Census_County_Data))"
   ]
  },
  {
   "cell_type": "code",
   "execution_count": 5,
   "id": "11252b7a",
   "metadata": {},
   "outputs": [
    {
     "data": {
      "text/html": [
       "<div>\n",
       "<style scoped>\n",
       "    .dataframe tbody tr th:only-of-type {\n",
       "        vertical-align: middle;\n",
       "    }\n",
       "\n",
       "    .dataframe tbody tr th {\n",
       "        vertical-align: top;\n",
       "    }\n",
       "\n",
       "    .dataframe thead th {\n",
       "        text-align: right;\n",
       "    }\n",
       "</style>\n",
       "<table border=\"1\" class=\"dataframe\">\n",
       "  <thead>\n",
       "    <tr style=\"text-align: right;\">\n",
       "      <th></th>\n",
       "      <th>POPULATION</th>\n",
       "      <th>POP_DENSITY</th>\n",
       "      <th>PCT_URBAN</th>\n",
       "      <th>MEDIAN_INCOME</th>\n",
       "    </tr>\n",
       "    <tr>\n",
       "      <th>FIPS</th>\n",
       "      <th></th>\n",
       "      <th></th>\n",
       "      <th></th>\n",
       "      <th></th>\n",
       "    </tr>\n",
       "  </thead>\n",
       "  <tbody>\n",
       "    <tr>\n",
       "      <th>0500000US01001</th>\n",
       "      <td>58239</td>\n",
       "      <td>91.8</td>\n",
       "      <td>0.59</td>\n",
       "      <td>31338.0</td>\n",
       "    </tr>\n",
       "    <tr>\n",
       "      <th>0500000US01003</th>\n",
       "      <td>227131</td>\n",
       "      <td>114.6</td>\n",
       "      <td>0.672</td>\n",
       "      <td>35140.0</td>\n",
       "    </tr>\n",
       "    <tr>\n",
       "      <th>0500000US01005</th>\n",
       "      <td>25259</td>\n",
       "      <td>31.0</td>\n",
       "      <td>0.351</td>\n",
       "      <td>20704.0</td>\n",
       "    </tr>\n",
       "  </tbody>\n",
       "</table>\n",
       "</div>"
      ],
      "text/plain": [
       "               POPULATION POP_DENSITY PCT_URBAN MEDIAN_INCOME\n",
       "FIPS                                                         \n",
       "0500000US01001      58239        91.8      0.59       31338.0\n",
       "0500000US01003     227131       114.6     0.672       35140.0\n",
       "0500000US01005      25259        31.0     0.351       20704.0"
      ]
     },
     "execution_count": 5,
     "metadata": {},
     "output_type": "execute_result"
    }
   ],
   "source": [
    "US_Census_County_Data.head(3)"
   ]
  },
  {
   "cell_type": "markdown",
   "id": "3b65cd6f",
   "metadata": {},
   "source": [
    "### unsupervised clustering using k-means\n",
    "##### https://towardsdatascience.com/how-to-perform-kmeans-clustering-using-python-7cc296cec092"
   ]
  },
  {
   "cell_type": "code",
   "execution_count": 6,
   "id": "739a473a",
   "metadata": {},
   "outputs": [],
   "source": [
    "def find_best_clusters(df, maximum_K):\n",
    "    \n",
    "    clusters_centers = []\n",
    "    k_values = []\n",
    "    \n",
    "    for k in range(1, maximum_K):\n",
    "        \n",
    "        kmeans_model = KMeans(n_clusters = k)\n",
    "        kmeans_model.fit(df)\n",
    "        \n",
    "        clusters_centers.append(kmeans_model.inertia_)\n",
    "        k_values.append(k)\n",
    "        \n",
    "    \n",
    "    return clusters_centers, k_values"
   ]
  },
  {
   "cell_type": "code",
   "execution_count": 7,
   "id": "498c3de4",
   "metadata": {},
   "outputs": [],
   "source": [
    "def generate_elbow_plot(clusters_centers, k_values):\n",
    "    \n",
    "    figure = plt.subplots(figsize = (12, 6))\n",
    "    plt.plot(k_values, clusters_centers, 'o-', color = 'orange')\n",
    "    plt.xlabel(\"Number of Clusters (K)\")\n",
    "    plt.ylabel(\"Cluster Inertia\")\n",
    "    plt.title(\"Elbow Plot of KMeans\")\n",
    "    plt.show()"
   ]
  },
  {
   "cell_type": "code",
   "execution_count": 8,
   "id": "1d78210d",
   "metadata": {},
   "outputs": [
    {
     "data": {
      "image/png": "[encoded data removed]",
      "text/plain": [
       "<Figure size 1200x600 with 1 Axes>"
      ]
     },
     "metadata": {},
     "output_type": "display_data"
    }
   ],
   "source": [
    "clusters_centers, k_values = find_best_clusters(US_Census_County_Data, 30)\n",
    "generate_elbow_plot(clusters_centers, k_values)"
   ]
  },
  {
   "cell_type": "code",
   "execution_count": 9,
   "id": "eb62fae8",
   "metadata": {},
   "outputs": [
    {
     "name": "stdout",
     "output_type": "stream",
     "text": [
      "county clusters completed for  3143\n"
     ]
    }
   ],
   "source": [
    "kmeans_model = KMeans(n_clusters = 15)\n",
    "kmeans_model.fit(US_Census_County_Data)\n",
    "US_Census_County_Output = US_Census_County_Data.copy()\n",
    "US_Census_County_Output[\"cluster\"] = kmeans_model.labels_\n",
    "extract = FIPS_Table.STATE\n",
    "US_Census_County_Output[\"State\"] = extract\n",
    "extract = FIPS_Table.COUNTY\n",
    "US_Census_County_Output[\"County\"] = extract\n",
    "print(\"county clusters completed for \", len(US_Census_County_Output))"
   ]
  },
  {
   "cell_type": "code",
   "execution_count": 10,
   "id": "588f0b08",
   "metadata": {},
   "outputs": [
    {
     "data": {
      "text/html": [
       "<div>\n",
       "<style scoped>\n",
       "    .dataframe tbody tr th:only-of-type {\n",
       "        vertical-align: middle;\n",
       "    }\n",
       "\n",
       "    .dataframe tbody tr th {\n",
       "        vertical-align: top;\n",
       "    }\n",
       "\n",
       "    .dataframe thead th {\n",
       "        text-align: right;\n",
       "    }\n",
       "</style>\n",
       "<table border=\"1\" class=\"dataframe\">\n",
       "  <thead>\n",
       "    <tr style=\"text-align: right;\">\n",
       "      <th></th>\n",
       "      <th>POPULATION</th>\n",
       "      <th>POP_DENSITY</th>\n",
       "      <th>PCT_URBAN</th>\n",
       "      <th>MEDIAN_INCOME</th>\n",
       "      <th>cluster</th>\n",
       "      <th>State</th>\n",
       "      <th>County</th>\n",
       "    </tr>\n",
       "    <tr>\n",
       "      <th>FIPS</th>\n",
       "      <th></th>\n",
       "      <th></th>\n",
       "      <th></th>\n",
       "      <th></th>\n",
       "      <th></th>\n",
       "      <th></th>\n",
       "      <th></th>\n",
       "    </tr>\n",
       "  </thead>\n",
       "  <tbody>\n",
       "    <tr>\n",
       "      <th>0500000US01001</th>\n",
       "      <td>58239</td>\n",
       "      <td>91.8</td>\n",
       "      <td>0.59</td>\n",
       "      <td>31338.0</td>\n",
       "      <td>11</td>\n",
       "      <td>ALABAMA</td>\n",
       "      <td>AUTAUGA</td>\n",
       "    </tr>\n",
       "    <tr>\n",
       "      <th>0500000US01003</th>\n",
       "      <td>227131</td>\n",
       "      <td>114.6</td>\n",
       "      <td>0.672</td>\n",
       "      <td>35140.0</td>\n",
       "      <td>13</td>\n",
       "      <td>ALABAMA</td>\n",
       "      <td>BALDWIN</td>\n",
       "    </tr>\n",
       "    <tr>\n",
       "      <th>0500000US01005</th>\n",
       "      <td>25259</td>\n",
       "      <td>31.0</td>\n",
       "      <td>0.351</td>\n",
       "      <td>20704.0</td>\n",
       "      <td>1</td>\n",
       "      <td>ALABAMA</td>\n",
       "      <td>BARBOUR</td>\n",
       "    </tr>\n",
       "  </tbody>\n",
       "</table>\n",
       "</div>"
      ],
      "text/plain": [
       "               POPULATION POP_DENSITY PCT_URBAN MEDIAN_INCOME  cluster  \\\n",
       "FIPS                                                                     \n",
       "0500000US01001      58239        91.8      0.59       31338.0       11   \n",
       "0500000US01003     227131       114.6     0.672       35140.0       13   \n",
       "0500000US01005      25259        31.0     0.351       20704.0        1   \n",
       "\n",
       "                  State   County  \n",
       "FIPS                              \n",
       "0500000US01001  ALABAMA  AUTAUGA  \n",
       "0500000US01003  ALABAMA  BALDWIN  \n",
       "0500000US01005  ALABAMA  BARBOUR  "
      ]
     },
     "execution_count": 10,
     "metadata": {},
     "output_type": "execute_result"
    }
   ],
   "source": [
    "US_Census_County_Output = US_Census_County_Output.astype({'State':'string'})\n",
    "US_Census_County_Output['State'].str.strip()\n",
    "US_Census_County_Output = US_Census_County_Output.astype({'County':'string'})\n",
    "US_Census_County_Output['County'].str.strip()\n",
    "US_Census_County_Output.head(3)"
   ]
  },
  {
   "cell_type": "code",
   "execution_count": 11,
   "id": "8cbbfa93",
   "metadata": {},
   "outputs": [
    {
     "data": {
      "text/html": [
       "<div>\n",
       "<style scoped>\n",
       "    .dataframe tbody tr th:only-of-type {\n",
       "        vertical-align: middle;\n",
       "    }\n",
       "\n",
       "    .dataframe tbody tr th {\n",
       "        vertical-align: top;\n",
       "    }\n",
       "\n",
       "    .dataframe thead th {\n",
       "        text-align: right;\n",
       "    }\n",
       "</style>\n",
       "<table border=\"1\" class=\"dataframe\">\n",
       "  <thead>\n",
       "    <tr style=\"text-align: right;\">\n",
       "      <th></th>\n",
       "      <th>POPULATION</th>\n",
       "      <th>POP_DENSITY</th>\n",
       "      <th>PCT_URBAN</th>\n",
       "      <th>MEDIAN_INCOME</th>\n",
       "      <th>cluster</th>\n",
       "      <th>State</th>\n",
       "      <th>County</th>\n",
       "    </tr>\n",
       "    <tr>\n",
       "      <th>FIPS</th>\n",
       "      <th></th>\n",
       "      <th></th>\n",
       "      <th></th>\n",
       "      <th></th>\n",
       "      <th></th>\n",
       "      <th></th>\n",
       "      <th></th>\n",
       "    </tr>\n",
       "  </thead>\n",
       "  <tbody>\n",
       "    <tr>\n",
       "      <th>0500000US18001</th>\n",
       "      <td>35685</td>\n",
       "      <td>101.4</td>\n",
       "      <td>0.366</td>\n",
       "      <td>33424.0</td>\n",
       "      <td>1</td>\n",
       "      <td>INDIANA</td>\n",
       "      <td>ADAMS</td>\n",
       "    </tr>\n",
       "    <tr>\n",
       "      <th>0500000US18003</th>\n",
       "      <td>381839</td>\n",
       "      <td>540.6</td>\n",
       "      <td>0.889</td>\n",
       "      <td>37105.0</td>\n",
       "      <td>4</td>\n",
       "      <td>INDIANA</td>\n",
       "      <td>ALLEN</td>\n",
       "    </tr>\n",
       "    <tr>\n",
       "      <th>0500000US18005</th>\n",
       "      <td>81759</td>\n",
       "      <td>188.7</td>\n",
       "      <td>0.705</td>\n",
       "      <td>41654.0</td>\n",
       "      <td>11</td>\n",
       "      <td>INDIANA</td>\n",
       "      <td>BARTHOLOMEW</td>\n",
       "    </tr>\n",
       "  </tbody>\n",
       "</table>\n",
       "</div>"
      ],
      "text/plain": [
       "               POPULATION POP_DENSITY PCT_URBAN MEDIAN_INCOME  cluster  \\\n",
       "FIPS                                                                     \n",
       "0500000US18001      35685       101.4     0.366       33424.0        1   \n",
       "0500000US18003     381839       540.6     0.889       37105.0        4   \n",
       "0500000US18005      81759       188.7     0.705       41654.0       11   \n",
       "\n",
       "                  State       County  \n",
       "FIPS                                  \n",
       "0500000US18001  INDIANA        ADAMS  \n",
       "0500000US18003  INDIANA        ALLEN  \n",
       "0500000US18005  INDIANA  BARTHOLOMEW  "
      ]
     },
     "execution_count": 11,
     "metadata": {},
     "output_type": "execute_result"
    }
   ],
   "source": [
    "df1 = US_Census_County_Output[US_Census_County_Output['State'].str.contains(\"INDIANA\")]\n",
    "df1.head(3)"
   ]
  },
  {
   "cell_type": "code",
   "execution_count": 12,
   "id": "e912b0b1",
   "metadata": {},
   "outputs": [
    {
     "name": "stdout",
     "output_type": "stream",
     "text": [
      "end of cluster generation and save function 607\n"
     ]
    }
   ],
   "source": [
    "df1 = US_Census_County_Output[US_Census_County_Output['cluster'] == 11] # manually enter the cluster of interest\n",
    "os.chdir('C:\\\\Users\\\\andre\\\\OneDrive\\\\Documents\\\\IndianaUniversity\\\\D592\\\\Project_Disaster_Resilience\\\\Data\\\\usCensus')\n",
    "df1.reset_index(inplace=True)\n",
    "df1 = df1.rename(columns = {'index':'FIPS'})\n",
    "df1.to_csv(f'US_Census_BartholomewCluster_All_Counties.csv', header=True, index=False)\n",
    "print('end of cluster generation and save function', len(df1))"
   ]
  },
  {
   "cell_type": "code",
   "execution_count": 29,
   "id": "81edf4e2",
   "metadata": {},
   "outputs": [
    {
     "data": {
      "text/html": [
       "<div>\n",
       "<style scoped>\n",
       "    .dataframe tbody tr th:only-of-type {\n",
       "        vertical-align: middle;\n",
       "    }\n",
       "\n",
       "    .dataframe tbody tr th {\n",
       "        vertical-align: top;\n",
       "    }\n",
       "\n",
       "    .dataframe thead th {\n",
       "        text-align: right;\n",
       "    }\n",
       "</style>\n",
       "<table border=\"1\" class=\"dataframe\">\n",
       "  <thead>\n",
       "    <tr style=\"text-align: right;\">\n",
       "      <th></th>\n",
       "      <th>FIPS</th>\n",
       "      <th>POPULATION</th>\n",
       "      <th>PCT_URBAN</th>\n",
       "      <th>AGRICULTURE</th>\n",
       "      <th>INDUSTRY</th>\n",
       "      <th>PROFESSIONAL</th>\n",
       "      <th>cluster</th>\n",
       "      <th>State</th>\n",
       "      <th>County</th>\n",
       "    </tr>\n",
       "  </thead>\n",
       "  <tbody>\n",
       "    <tr>\n",
       "      <th>0</th>\n",
       "      <td>0500000US01001</td>\n",
       "      <td>58239</td>\n",
       "      <td>0.59</td>\n",
       "      <td>0.008</td>\n",
       "      <td>0.237</td>\n",
       "      <td>0.51</td>\n",
       "      <td>10</td>\n",
       "      <td>ALABAMA</td>\n",
       "      <td>AUTAUGA</td>\n",
       "    </tr>\n",
       "    <tr>\n",
       "      <th>1</th>\n",
       "      <td>0500000US01009</td>\n",
       "      <td>58884</td>\n",
       "      <td>0.093</td>\n",
       "      <td>0.018</td>\n",
       "      <td>0.341</td>\n",
       "      <td>0.435</td>\n",
       "      <td>10</td>\n",
       "      <td>ALABAMA</td>\n",
       "      <td>BLOUNT</td>\n",
       "    </tr>\n",
       "    <tr>\n",
       "      <th>2</th>\n",
       "      <td>0500000US01017</td>\n",
       "      <td>34834</td>\n",
       "      <td>0.488</td>\n",
       "      <td>0.023</td>\n",
       "      <td>0.402</td>\n",
       "      <td>0.399</td>\n",
       "      <td>10</td>\n",
       "      <td>ALABAMA</td>\n",
       "      <td>CHAMBERS</td>\n",
       "    </tr>\n",
       "  </tbody>\n",
       "</table>\n",
       "</div>"
      ],
      "text/plain": [
       "             FIPS POPULATION PCT_URBAN AGRICULTURE INDUSTRY PROFESSIONAL  \\\n",
       "0  0500000US01001      58239      0.59       0.008    0.237         0.51   \n",
       "1  0500000US01009      58884     0.093       0.018    0.341        0.435   \n",
       "2  0500000US01017      34834     0.488       0.023    0.402        0.399   \n",
       "\n",
       "   cluster    State    County  \n",
       "0       10  ALABAMA   AUTAUGA  \n",
       "1       10  ALABAMA    BLOUNT  \n",
       "2       10  ALABAMA  CHAMBERS  "
      ]
     },
     "execution_count": 29,
     "metadata": {},
     "output_type": "execute_result"
    }
   ],
   "source": [
    "df1.head(3)"
   ]
  },
  {
   "cell_type": "code",
   "execution_count": 13,
   "id": "beddc63d",
   "metadata": {},
   "outputs": [
    {
     "name": "stdout",
     "output_type": "stream",
     "text": [
      "end of cluster generation and save function 21\n"
     ]
    }
   ],
   "source": [
    "df2 = df1[df1['State'].str.contains(\"INDIANA\")]\n",
    "os.chdir('C:\\\\Users\\\\andre\\\\OneDrive\\\\Documents\\\\IndianaUniversity\\\\D592\\\\Project_Disaster_Resilience\\\\Data\\\\usCensus')\n",
    "df2.to_csv(f'US_Census_BartholomewCluster_Indiana_Counties.csv', header=True, index=False)\n",
    "print('end of cluster generation and save function', len(df2))"
   ]
  },
  {
   "cell_type": "code",
   "execution_count": 14,
   "id": "84e8373d",
   "metadata": {},
   "outputs": [
    {
     "name": "stdout",
     "output_type": "stream",
     "text": [
      "end of cluster generation and save function 3143\n"
     ]
    }
   ],
   "source": [
    "# output the normalized data to a csv file\n",
    "os.chdir('C:\\\\Users\\\\andre\\\\OneDrive\\\\Documents\\\\IndianaUniversity\\\\D592\\\\Project_Disaster_Resilience\\\\Data\\\\usCensus')\n",
    "US_Census_County_Output.reset_index(inplace=True)\n",
    "US_Census_County_Output = US_Census_County_Output.rename(columns = {'index':'FIPS'})\n",
    "US_Census_County_Output.to_csv(f'US_Census_AllClusters_All_Counties.csv', header=True, index=False)\n",
    "print('end of cluster generation and save function', len(US_Census_County_Output))"
   ]
  },
  {
   "cell_type": "code",
   "execution_count": null,
   "id": "70901556",
   "metadata": {},
   "outputs": [],
   "source": []
  }
 ],
 "metadata": {
  "kernelspec": {
   "display_name": "Python 3 (ipykernel)",
   "language": "python",
   "name": "python3"
  },
  "language_info": {
   "codemirror_mode": {
    "name": "ipython",
    "version": 3
   },
   "file_extension": ".py",
   "mimetype": "text/x-python",
   "name": "python",
   "nbconvert_exporter": "python",
   "pygments_lexer": "ipython3",
   "version": "3.11.3"
  }
 },
 "nbformat": 4,
 "nbformat_minor": 5
}
